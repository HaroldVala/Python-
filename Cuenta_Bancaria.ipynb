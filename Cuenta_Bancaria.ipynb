{
  "nbformat": 4,
  "nbformat_minor": 0,
  "metadata": {
    "colab": {
      "provenance": []
    },
    "kernelspec": {
      "name": "python3",
      "display_name": "Python 3"
    },
    "language_info": {
      "name": "python"
    }
  },
  "cells": [
    {
      "cell_type": "markdown",
      "source": [
        "#Clases"
      ],
      "metadata": {
        "id": "_NgrIIlXRBQq"
      }
    },
    {
      "cell_type": "code",
      "execution_count": null,
      "metadata": {
        "id": "q56ntdQmJqEB"
      },
      "outputs": [],
      "source": [
        "class Persona:\n",
        "\n",
        "  def __init__(self, nombre, apellido):\n",
        "    self.nombre = nombre\n",
        "    self.apellido = apellido"
      ]
    },
    {
      "cell_type": "code",
      "source": [
        "class Cliente(Persona):\n",
        "\n",
        "  def __init__(self,nombre, apellido, numero_cuenta, balance = 0):\n",
        "    super().__init__(nombre, apellido)\n",
        "    self.numero_cuenta = numero_cuenta\n",
        "    self.balance = balance\n",
        "\n",
        "  def __str__(self):\n",
        "    return f\"Cliente : {self.nombre} {self.apellido} \\nBalance de cuenta {self.numero_cuenta}: ${self.balance}\"\n",
        "\n",
        "  def depositar(self,monto_deposito):\n",
        "    self.balance += monto_deposito\n",
        "    print(\"Deposito aceptado\")\n",
        "\n",
        "  def retirar(self, monto_retiro):\n",
        "    if self.balance >= monto_retiro:\n",
        "      self.balance -= monto_retiro\n",
        "      print(\"retiro realizado\")\n",
        "    else:\n",
        "      print(\"Fondos insuficientes\")"
      ],
      "metadata": {
        "id": "mwMItwXuM5Vp"
      },
      "execution_count": null,
      "outputs": []
    },
    {
      "cell_type": "code",
      "source": [
        "def crear_cliente():\n",
        "  nombre_cl     = input(\"Ingrese su nombre: \")\n",
        "  apellido_cl   = input(\"ingrese su apellido: \")\n",
        "  numero_cuenta =  input(\"Ingrese su numero de cuenta: \")\n",
        "  cliente = Cliente(nombre_cl,\n",
        "                    apellido_cl,\n",
        "                    numero_cuenta)\n",
        "  return cliente"
      ],
      "metadata": {
        "id": "EXwMJqioP2Ny"
      },
      "execution_count": null,
      "outputs": []
    },
    {
      "cell_type": "code",
      "source": [
        "def inicio():\n",
        "  mi_cliente = crear_cliente() #Guardamos cliente en una variable\n",
        "  opcion = 0\n",
        "  while opcion != \"S\":\n",
        "    print(\"Elije: Depositar (D), Retirar (R), o Salir (S)\")\n",
        "    opcion = input()\n",
        "\n",
        "    if opcion == \"D\":\n",
        "      monto_dep = int(input(\"Monto a depositar: \"))\n",
        "      mi_cliente.depositar(monto_dep)\n",
        "\n",
        "    elif opcion == \"R\":\n",
        "      monto_ret = int(input(\"Monto a retirar: \"))\n",
        "      mi_cliente.retirar(monto_ret)\n",
        "    print(mi_cliente)\n",
        "\n",
        "  print(\"\\nGracias por operar en Banco Python\")"
      ],
      "metadata": {
        "id": "AzG82vmhRJf7"
      },
      "execution_count": null,
      "outputs": []
    },
    {
      "cell_type": "markdown",
      "source": [
        "#Funcionamiento"
      ],
      "metadata": {
        "id": "ddSfnY9SbV5J"
      }
    },
    {
      "cell_type": "code",
      "source": [
        "inicio()"
      ],
      "metadata": {
        "colab": {
          "base_uri": "https://localhost:8080/"
        },
        "id": "WTz0UBLxbYnf",
        "outputId": "33873a13-48ec-4ab9-bb30-d1d963d1f014"
      },
      "execution_count": null,
      "outputs": [
        {
          "output_type": "stream",
          "name": "stdout",
          "text": [
            "Ingrese su nombre: harold\n",
            "ingrese su apellido: valadez\n",
            "Ingrese su numero de cuenta: 231034\n",
            "Elije: Depositar (D), Retirar (R), o Salir (S)\n",
            "S\n",
            "Cliente : harold valadez \n",
            "Balance de cuenta 231034: $0\n",
            "\n",
            "Gracias por operar en Banco Python\n"
          ]
        }
      ]
    },
    {
      "cell_type": "markdown",
      "source": [
        "\n",
        "\n",
        "---\n",
        "\n",
        "ₓ ᴬ \\"
      ],
      "metadata": {
        "id": "DiMZZz7sCN6L"
      }
    }
  ]
}