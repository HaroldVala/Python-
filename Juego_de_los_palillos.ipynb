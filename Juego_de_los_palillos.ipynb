{
  "nbformat": 4,
  "nbformat_minor": 0,
  "metadata": {
    "colab": {
      "provenance": []
    },
    "kernelspec": {
      "name": "python3",
      "display_name": "Python 3"
    },
    "language_info": {
      "name": "python"
    }
  },
  "cells": [
    {
      "cell_type": "code",
      "execution_count": null,
      "metadata": {
        "id": "5PPbipOoZXG3"
      },
      "outputs": [],
      "source": [
        "from random import shuffle\n",
        "#Lista inicial\n",
        "palitos = [\"-\", \"--\", \"---\",\"----\"]\n",
        "\n",
        "#Mezclar palitos\n",
        "def mezclar (lista):\n",
        "  shuffle(lista)\n",
        "  return lista\n",
        "\n",
        "#Pedirle intento\n",
        "def probar_suerte():\n",
        "  intento = \"\"\n",
        "  while intento not in [\"1\", \"2\", \"3\", \"4\"]:\n",
        "    intento = input(\"Elige un numero del 1 al 4: \")\n",
        "\n",
        "  return int(intento)\n",
        "\n",
        "\n",
        "\n",
        "#Comprobar intento\n",
        "def chequear_intento(lista,intento):\n",
        "  if lista[intento - 1] == \"-\":\n",
        "    print(\"a lavar los platos\")\n",
        "  else:\n",
        "    print(\"No lavas trastes\")\n",
        "\n",
        "  print(f\"te ha tocado {lista[intento-1]}\")\n",
        "\n",
        "palitos_mezcaldos = mezclar(palitos)\n",
        "seleccion = probar_suerte()\n",
        "chequear_intento(palitos_mezcaldos,seleccion)"
      ]
    },
    {
      "cell_type": "markdown",
      "source": [
        "#Liberias"
      ],
      "metadata": {
        "id": "Lu-g_kD6ZZQR"
      }
    },
    {
      "cell_type": "markdown",
      "source": [
        "Metemos shuffle para que revuelva mi codigo"
      ],
      "metadata": {
        "id": "mJ-_ppSAZc3Y"
      }
    },
    {
      "cell_type": "code",
      "source": [
        "from random import shuffle"
      ],
      "metadata": {
        "id": "XrXBBQa9ZYvn"
      },
      "execution_count": null,
      "outputs": []
    },
    {
      "cell_type": "markdown",
      "source": [
        "#Lista inicial\n"
      ],
      "metadata": {
        "id": "IXSV_6mBZkgh"
      }
    },
    {
      "cell_type": "markdown",
      "source": [
        "Se pondra la lista de las opcines de palitos que le pueden salir al usurio"
      ],
      "metadata": {
        "id": "YRFAqF7ZZm2I"
      }
    },
    {
      "cell_type": "code",
      "source": [
        "#Lista inicial\n",
        "palitos = [\"-\", \"--\", \"---\",\"----\"]"
      ],
      "metadata": {
        "id": "ZLDnSwMAZmO2"
      },
      "execution_count": null,
      "outputs": []
    },
    {
      "cell_type": "markdown",
      "source": [
        "#Mezclar Palitos"
      ],
      "metadata": {
        "id": "HqYwafucZ16i"
      }
    },
    {
      "cell_type": "markdown",
      "source": [
        "creamos una funcion donde mezcla los palillos aleatoriamente con **shuflle** y ese resultado lo guaradamos en lista\n",
        "\n",
        " lo que significa que no devuelve una nueva lista, sino que modifica la lista original.\n",
        "\n",
        " Después de mezclar la lista, la devolvemos"
      ],
      "metadata": {
        "id": "L5SpcLZzZ9eC"
      }
    },
    {
      "cell_type": "code",
      "source": [
        "def mezclar (lista):\n",
        "  shuffle(lista)\n",
        "  return lista\n",
        "  # Después de mezclar la lista, la devolvemos"
      ],
      "metadata": {
        "id": "kVKT_tbMZ4XW"
      },
      "execution_count": null,
      "outputs": []
    },
    {
      "cell_type": "markdown",
      "source": [
        "#Pedirle intento"
      ],
      "metadata": {
        "id": "jHONJAxpbRsm"
      }
    },
    {
      "cell_type": "markdown",
      "source": [
        "Crearemos una funcion para cuando elija el usario una de las cuatro opciones\n",
        "Se inicializa la variable **intento** con una cadena vacía\n",
        "\n",
        "intento es una variable que almacena el número que el usuario elige. Antes de que el usuario elija un número, necesitas darle a intento un valor inicial. Eso es lo que hace esta línea de código: intento =\n",
        "\" \". Estás asignando a intento una cadena vacía (\" \"), que es un tipo de valor que puede almacenar texto.\n",
        "\n",
        "Dentro del bucle, se utiliza la función input() para solicitar al usuario que elija un número del 1 al 4. El valor ingresado por el usuario se asigna a la variable **intento**\n",
        "\n",
        "Si el valor ingresado por el usuario no está en la lista [\"1\", \"2\", \"3\", \"4\"], el bucle while continuará solicitando al usuario que ingrese un número válido.\n",
        "\n",
        "Una vez que el usuario ingresa un número válido, el bucle while se detiene y la función probar_suerte() devuelve el número ingresado por el usuario como un entero."
      ],
      "metadata": {
        "id": "QkRA05oDbly1"
      }
    },
    {
      "cell_type": "code",
      "source": [
        "def probar_suerte():\n",
        "  intento = \"\"\n",
        "  while intento not in [\"1\", \"2\", \"3\", \"4\"]:\n",
        "    intento = input(\"Elige un numero del 1 al 4: \")\n",
        "\n",
        "  return int(intento)"
      ],
      "metadata": {
        "id": "xoAonT8lbTAs"
      },
      "execution_count": null,
      "outputs": []
    },
    {
      "cell_type": "markdown",
      "source": [
        "#Comprobar el intento"
      ],
      "metadata": {
        "id": "o3olqHB9dBgR"
      }
    },
    {
      "cell_type": "markdown",
      "source": [
        "Aqui es para saber si el usario tendra que lavar los trastes o no\n",
        "\n",
        "if lista[intento - 1] == \"-\": Esta línea verifica si el elemento en la posición intento - 1 de la lista es igual a “-”. En Python, los índices de las listas comienzan en 0, por lo que intento - 1 se usa para obtener el elemento correcto.\n",
        "\n",
        "por lo contrario le salen ontras opciones diferentes a \"-\" no lavara los trastes"
      ],
      "metadata": {
        "id": "Zyzh3loveUf_"
      }
    },
    {
      "cell_type": "code",
      "source": [
        "def chequear_intento(lista,intento):\n",
        "  if lista[intento - 1] == \"-\":\n",
        "    print(\"a lavar los platos\")\n",
        "  else:\n",
        "    print(\"No lavas trastes\")\n",
        "\n",
        "  print(f\"te ha tocado {lista[intento-1]}\")"
      ],
      "metadata": {
        "id": "Mi8L24-IdlIK"
      },
      "execution_count": null,
      "outputs": []
    },
    {
      "cell_type": "markdown",
      "source": [
        "#Arranque del programa"
      ],
      "metadata": {
        "id": "gtoYpolle87P"
      }
    },
    {
      "cell_type": "markdown",
      "source": [
        "este código mezcla una lista de palitos, le pide al usuario que elija un número, y luego verifica si el palito correspondiente al número elegido es igual a “-”."
      ],
      "metadata": {
        "id": "aguO5WQAf6GD"
      }
    },
    {
      "cell_type": "code",
      "source": [
        "palitos_mezcaldos = mezclar(palitos)\n",
        "seleccion = probar_suerte()\n",
        "chequear_intento(palitos_mezcaldos,seleccion)"
      ],
      "metadata": {
        "colab": {
          "base_uri": "https://localhost:8080/"
        },
        "id": "lrRFpkE0fkHW",
        "outputId": "5c63c758-8012-44b8-d4e4-589e26e2a15b"
      },
      "execution_count": null,
      "outputs": [
        {
          "output_type": "stream",
          "name": "stdout",
          "text": [
            "Elige un numero del 1 al 4: 2\n",
            "No lavas trastes\n",
            "te ha tocado --\n"
          ]
        }
      ]
    },
    {
      "cell_type": "markdown",
      "source": [
        "palitos_mezcaldos = mezclar(palitos): Aquí, estás llamando a la función mezclar() con palitos como argumento. Esta función mezcla aleatoriamente los elementos en palitos. El resultado de esta mezcla se guarda en la variable palitos_mezcaldos.\n",
        "\n",
        "seleccion = probar_suerte(): Luego, llamas a la función probar_suerte(), que solicita al usuario que elija un número del 1 al 4. El número que el usuario elige se guarda en la variable seleccion\n",
        "\n",
        "chequear_intento(palitos_mezcaldos,seleccion): Finalmente, llamas a la función chequear_intento() con palitos_mezcaldos y seleccion como argumentos. Esta función verifica si el elemento en la posición seleccion - 1 de palitos_mezcaldos es igual a “-”. Si es así, imprime “a lavar los platos”. Si no, imprime “No lavas trastes”. Independientemente de si el elemento es igual a “-” o no, la función imprime \"te ha tocado \" seguido del elemento en la posición seleccion - 1 de palitos_mezcaldos."
      ],
      "metadata": {
        "id": "6tAorHOffpZU"
      }
    }
  ]
}